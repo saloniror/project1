{
 "cells": [
  {
   "cell_type": "code",
   "execution_count": 1,
   "id": "d6b6db30-6811-4e33-8fa3-61e2ae26937f",
   "metadata": {},
   "outputs": [
    {
     "name": "stdin",
     "output_type": "stream",
     "text": [
      "Enter the desired password length:  6\n"
     ]
    },
    {
     "name": "stdout",
     "output_type": "stream",
     "text": [
      "Generated password: 3oPW:s\n"
     ]
    }
   ],
   "source": [
    "import os\n",
    "import random\n",
    "import string\n",
    "\n",
    "def generate_random_password(length):\n",
    "    if length < 4:\n",
    "        raise ValueError(\"Password length must be at least 4 to include all character types.\")\n",
    "    \n",
    "    # Character sets\n",
    "    lower = string.ascii_lowercase\n",
    "    upper = string.ascii_uppercase\n",
    "    digits = string.digits\n",
    "    special = string.punctuation\n",
    "\n",
    "    # Ensure the password contains at least one character from each set\n",
    "    all_characters = lower + upper + digits + special\n",
    "    password = [\n",
    "        random.choice(lower),\n",
    "        random.choice(upper),\n",
    "        random.choice(digits),\n",
    "        random.choice(special),\n",
    "    ]\n",
    "\n",
    "    # Fill the rest of the password length with random choices\n",
    "    password += random.choices(all_characters, k=length - 4)\n",
    "\n",
    "    # Shuffle the password to avoid predictable patterns\n",
    "    random.shuffle(password)\n",
    "\n",
    "    return ''.join(password)\n",
    "\n",
    "# Example usage\n",
    "if __name__ == \"__main__\":\n",
    "    try:\n",
    "        length = int(input(\"Enter the desired password length: \"))\n",
    "        password = generate_random_password(length)\n",
    "        print(f\"Generated password: {password}\")\n",
    "    except ValueError as e:\n",
    "        print(f\"Error: {e}\")\n"
   ]
  },
  {
   "cell_type": "code",
   "execution_count": null,
   "id": "a4673e09-cffb-4aef-93b9-87234977714a",
   "metadata": {},
   "outputs": [],
   "source": []
  }
 ],
 "metadata": {
  "kernelspec": {
   "display_name": "Python 3 (ipykernel)",
   "language": "python",
   "name": "python3"
  },
  "language_info": {
   "codemirror_mode": {
    "name": "ipython",
    "version": 3
   },
   "file_extension": ".py",
   "mimetype": "text/x-python",
   "name": "python",
   "nbconvert_exporter": "python",
   "pygments_lexer": "ipython3",
   "version": "3.12.4"
  }
 },
 "nbformat": 4,
 "nbformat_minor": 5
}
